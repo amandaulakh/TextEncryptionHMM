{
 "cells": [
  {
   "cell_type": "code",
   "execution_count": 30,
   "id": "32ad73a0-907a-4b63-8521-6f75cc82d62a",
   "metadata": {},
   "outputs": [],
   "source": [
    "import tkinter as tk\n",
    "from tkinter import messagebox\n",
    "import numpy as np\n",
    "from hmmlearn import hmm\n",
    "import string"
   ]
  },
  {
   "cell_type": "code",
   "execution_count": 31,
   "id": "13aa2861-4a84-4335-9e73-cb6830087dd4",
   "metadata": {},
   "outputs": [],
   "source": [
    "# Character mapping for encryption/decryption\n",
    "char_map = {char: i for i, char in enumerate(string.ascii_lowercase + \" \")}\n",
    "reverse_char_map = {i: char for char, i in char_map.items()}\n"
   ]
  },
  {
   "cell_type": "code",
   "execution_count": 32,
   "id": "643d1aaa-064d-4688-851f-d56c3543df07",
   "metadata": {},
   "outputs": [],
   "source": [
    "# HMM configuration\n",
    "n_components = 5  # Number of hidden states\n",
    "n_iter = 100  # Number of iterations for model fitting"
   ]
  },
  {
   "cell_type": "code",
   "execution_count": 33,
   "id": "2223d4eb-6fbf-4869-b798-901a85c73516",
   "metadata": {},
   "outputs": [],
   "source": [
    "# Train HMM on dummy sequences (just for demonstration)\n",
    "def train_hmm():\n",
    "    model = hmm.MultinomialHMM(n_components=n_components, n_iter=n_iter)\n",
    "    training_data = generate_training_data()\n",
    "    model.fit(training_data)\n",
    "    return model"
   ]
  },
  {
   "cell_type": "code",
   "execution_count": 34,
   "id": "52d971d9-4ab3-4ef0-9823-fd055c29bfb8",
   "metadata": {},
   "outputs": [],
   "source": [
    "# Generate dummy training data (random sequences)\n",
    "def generate_training_data():\n",
    "    sequences = []\n",
    "    for _ in range(1000):\n",
    "        sequence = [np.random.randint(0, len(char_map)) for _ in range(50)]\n",
    "        sequences.append(sequence)\n",
    "    return np.array(sequences).reshape(-1, 1)\n"
   ]
  },
  {
   "cell_type": "code",
   "execution_count": 35,
   "id": "658edc22-5e6f-4782-8079-09e5ee8af3bf",
   "metadata": {},
   "outputs": [],
   "source": [
    "# Encrypt text using the fitted HMM\n",
    "def encrypt_text(model, text):\n",
    "    text_obs = np.array([char_map[char] for char in text.lower() if char in char_map]).reshape(-1, 1)\n",
    "    hidden_states = model.predict(text_obs)\n",
    "    encrypted_text = ''.join([reverse_char_map[state] for state in hidden_states])\n",
    "    return encrypted_text\n"
   ]
  },
  {
   "cell_type": "code",
   "execution_count": 36,
   "id": "ad7e3f71-a397-4062-8696-a48450171aba",
   "metadata": {},
   "outputs": [],
   "source": [
    "# Decrypt the encrypted text\n",
    "def decrypt_text(model, encrypted_text):\n",
    "    encrypted_obs = np.array([char_map[char] for char in encrypted_text.lower() if char in char_map]).reshape(-1, 1)\n",
    "    _, decrypted_states = model.decode(encrypted_obs)\n",
    "    decrypted_text = ''.join([reverse_char_map[state] for state in decrypted_states])\n",
    "    return decrypted_text"
   ]
  },
  {
   "cell_type": "code",
   "execution_count": 37,
   "id": "a73547be-1243-4fb6-a5a7-dbadab1d37b2",
   "metadata": {},
   "outputs": [],
   "source": [
    "# Save text to file\n",
    "def save_to_file(original_text, encrypted_text, decrypted_text, filename=\"encrypted_decrypted_text.txt\"):\n",
    "    with open(filename, 'w') as file:\n",
    "        file.write(f\"Original Text: {original_text}\\n\")\n",
    "        file.write(f\"Encrypted Text: {encrypted_text}\\n\")\n",
    "        file.write(f\"Decrypted Text: {decrypted_text}\\n\")\n"
   ]
  },
  {
   "cell_type": "code",
   "execution_count": 38,
   "id": "599c46d5-a071-41ed-a530-c8df75be0c0f",
   "metadata": {},
   "outputs": [],
   "source": [
    "# Function to handle the encryption and decryption process\n",
    "def process_text():\n",
    "    original_text = text_input.get(\"1.0\", \"end-1c\")\n",
    "    if len(original_text) > 100:\n",
    "        messagebox.showerror(\"Error\", \"Text exceeds 100 characters limit.\")\n",
    "        return\n",
    "    \n",
    "    if not original_text.strip():\n",
    "        messagebox.showerror(\"Error\", \"Please enter some text.\")\n",
    "        return\n",
    "\n",
    "  # Encrypt and decrypt the text\n",
    "    encrypted_text = encrypt_text(model, original_text)\n",
    "    decrypted_text = decrypt_text(model, encrypted_text)\n",
    "    \n",
    "    # Save to file\n",
    "    save_to_file(original_text, encrypted_text, decrypted_text)\n",
    "    \n",
    "    # Show results in the GUI\n",
    "    encrypted_output.delete(\"1.0\", tk.END)\n",
    "    decrypted_output.delete(\"1.0\", tk.END)\n",
    "    encrypted_output.insert(tk.END, encrypted_text)\n",
    "    decrypted_output.insert(tk.END, decrypted_text)\n",
    "    \n",
    "    messagebox.showinfo(\"Success\", \"Text processed and saved to file.\")"
   ]
  },
  {
   "cell_type": "code",
   "execution_count": 39,
   "id": "68d77873-d6b0-484d-af48-39eb5eb1fe49",
   "metadata": {},
   "outputs": [
    {
     "name": "stderr",
     "output_type": "stream",
     "text": [
      "MultinomialHMM has undergone major changes. The previous version was implementing a CategoricalHMM (a special case of MultinomialHMM). This new implementation follows the standard definition for a Multinomial distribution (e.g. as in https://en.wikipedia.org/wiki/Multinomial_distribution). See these issues for details:\n",
      "https://github.com/hmmlearn/hmmlearn/issues/335\n",
      "https://github.com/hmmlearn/hmmlearn/issues/340\n"
     ]
    }
   ],
   "source": [
    "# Train the HMM model\n",
    "model = train_hmm()\n"
   ]
  },
  {
   "cell_type": "code",
   "execution_count": 40,
   "id": "62d3dfae-aad2-4b34-a5eb-bebac22a254c",
   "metadata": {},
   "outputs": [
    {
     "data": {
      "text/plain": [
       "''"
      ]
     },
     "execution_count": 40,
     "metadata": {},
     "output_type": "execute_result"
    }
   ],
   "source": [
    "# Build GUI using Tkinter\n",
    "root = tk.Tk()\n",
    "root.title(\"Text Encryption & Decryption using HMM\")\n"
   ]
  },
  {
   "cell_type": "code",
   "execution_count": 41,
   "id": "9d4b44eb-dd78-41f5-9d01-0cc6fad2934c",
   "metadata": {},
   "outputs": [],
   "source": [
    "# Input frame\n",
    "input_frame = tk.Frame(root)\n",
    "input_frame.pack(pady=10)\n",
    "\n",
    "tk.Label(input_frame, text=\"Enter text (max 100 characters):\").pack(anchor=\"w\")\n",
    "\n",
    "text_input = tk.Text(input_frame, height=5, width=50)\n",
    "text_input.pack()"
   ]
  },
  {
   "cell_type": "code",
   "execution_count": 42,
   "id": "805fb358-54f1-419d-9403-7ed8b10a0f4e",
   "metadata": {},
   "outputs": [],
   "source": [
    "# Output frame for Encrypted and Decrypted text\n",
    "output_frame = tk.Frame(root)\n",
    "output_frame.pack(pady=10)\n",
    "\n",
    "tk.Label(output_frame, text=\"Encrypted Text:\").pack(anchor=\"w\")\n",
    "encrypted_output = tk.Text(output_frame, height=3, width=50)\n",
    "encrypted_output.pack()\n",
    "\n",
    "tk.Label(output_frame, text=\"Decrypted Text:\").pack(anchor=\"w\")\n",
    "decrypted_output = tk.Text(output_frame, height=3, width=50)\n",
    "decrypted_output.pack()\n",
    "\n",
    "# Button to trigger encryption and decryption\n",
    "process_button = tk.Button(root, text=\"Encrypt & Decrypt\", command=process_text)\n",
    "process_button.pack(pady=10)"
   ]
  },
  {
   "cell_type": "code",
   "execution_count": 43,
   "id": "4da34d16-7499-4f17-afda-adf6fdbf2c91",
   "metadata": {},
   "outputs": [],
   "source": [
    "# Run the GUI loop\n",
    "root.mainloop()"
   ]
  }
 ],
 "metadata": {
  "kernelspec": {
   "display_name": "Python 3 (ipykernel)",
   "language": "python",
   "name": "python3"
  },
  "language_info": {
   "codemirror_mode": {
    "name": "ipython",
    "version": 3
   },
   "file_extension": ".py",
   "mimetype": "text/x-python",
   "name": "python",
   "nbconvert_exporter": "python",
   "pygments_lexer": "ipython3",
   "version": "3.11.7"
  }
 },
 "nbformat": 4,
 "nbformat_minor": 5
}
